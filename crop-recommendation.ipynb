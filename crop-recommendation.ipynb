{
 "cells": [
  {
   "cell_type": "code",
   "execution_count": 2,
   "metadata": {
    "execution": {
     "iopub.execute_input": "2023-03-21T03:52:18.711735Z",
     "iopub.status.busy": "2023-03-21T03:52:18.710741Z",
     "iopub.status.idle": "2023-03-21T03:52:20.049704Z",
     "shell.execute_reply": "2023-03-21T03:52:20.048106Z",
     "shell.execute_reply.started": "2023-03-21T03:46:43.102686Z"
    },
    "papermill": {
     "duration": 1.374655,
     "end_time": "2023-03-21T03:52:20.049867",
     "exception": false,
     "start_time": "2023-03-21T03:52:18.675212",
     "status": "completed"
    },
    "tags": []
   },
   "outputs": [],
   "source": [
    "from __future__ import print_function\n",
    "import pandas as pd\n",
    "import numpy as np\n",
    "import matplotlib.pyplot as plt\n",
    "import seaborn as sns\n",
    "from sklearn.metrics import classification_report\n",
    "from sklearn import metrics\n",
    "from sklearn import tree\n",
    "import warnings\n",
    "warnings.filterwarnings('ignore')"
   ]
  },
  {
   "cell_type": "code",
   "execution_count": 3,
   "metadata": {
    "execution": {
     "iopub.execute_input": "2023-03-21T03:52:20.123175Z",
     "iopub.status.busy": "2023-03-21T03:52:20.122064Z",
     "iopub.status.idle": "2023-03-21T03:52:20.147549Z",
     "shell.execute_reply": "2023-03-21T03:52:20.149108Z",
     "shell.execute_reply.started": "2023-03-21T03:46:43.111230Z"
    },
    "papermill": {
     "duration": 0.063906,
     "end_time": "2023-03-21T03:52:20.149281",
     "exception": false,
     "start_time": "2023-03-21T03:52:20.085375",
     "status": "completed"
    },
    "tags": []
   },
   "outputs": [],
   "source": [
    "PATH = 'recommendation.csv'\n",
    "df = pd.read_csv(PATH)"
   ]
  },
  {
   "cell_type": "code",
   "execution_count": 4,
   "metadata": {
    "execution": {
     "iopub.execute_input": "2023-03-21T03:52:20.227351Z",
     "iopub.status.busy": "2023-03-21T03:52:20.226677Z",
     "iopub.status.idle": "2023-03-21T03:52:20.244481Z",
     "shell.execute_reply": "2023-03-21T03:52:20.243870Z",
     "shell.execute_reply.started": "2023-03-21T03:46:43.150348Z"
    },
    "papermill": {
     "duration": 0.06173,
     "end_time": "2023-03-21T03:52:20.244871",
     "exception": false,
     "start_time": "2023-03-21T03:52:20.183141",
     "status": "completed"
    },
    "tags": []
   },
   "outputs": [
    {
     "data": {
      "text/html": [
       "<div>\n",
       "<style scoped>\n",
       "    .dataframe tbody tr th:only-of-type {\n",
       "        vertical-align: middle;\n",
       "    }\n",
       "\n",
       "    .dataframe tbody tr th {\n",
       "        vertical-align: top;\n",
       "    }\n",
       "\n",
       "    .dataframe thead th {\n",
       "        text-align: right;\n",
       "    }\n",
       "</style>\n",
       "<table border=\"1\" class=\"dataframe\">\n",
       "  <thead>\n",
       "    <tr style=\"text-align: right;\">\n",
       "      <th></th>\n",
       "      <th>N</th>\n",
       "      <th>P</th>\n",
       "      <th>K</th>\n",
       "      <th>temperature</th>\n",
       "      <th>humidity</th>\n",
       "      <th>ph</th>\n",
       "      <th>rainfall</th>\n",
       "      <th>label</th>\n",
       "    </tr>\n",
       "  </thead>\n",
       "  <tbody>\n",
       "    <tr>\n",
       "      <th>0</th>\n",
       "      <td>90</td>\n",
       "      <td>42</td>\n",
       "      <td>43</td>\n",
       "      <td>20.879744</td>\n",
       "      <td>82.002744</td>\n",
       "      <td>6.502985</td>\n",
       "      <td>202.935536</td>\n",
       "      <td>rice</td>\n",
       "    </tr>\n",
       "    <tr>\n",
       "      <th>1</th>\n",
       "      <td>85</td>\n",
       "      <td>58</td>\n",
       "      <td>41</td>\n",
       "      <td>21.770462</td>\n",
       "      <td>80.319644</td>\n",
       "      <td>7.038096</td>\n",
       "      <td>226.655537</td>\n",
       "      <td>rice</td>\n",
       "    </tr>\n",
       "    <tr>\n",
       "      <th>2</th>\n",
       "      <td>60</td>\n",
       "      <td>55</td>\n",
       "      <td>44</td>\n",
       "      <td>23.004459</td>\n",
       "      <td>82.320763</td>\n",
       "      <td>7.840207</td>\n",
       "      <td>263.964248</td>\n",
       "      <td>rice</td>\n",
       "    </tr>\n",
       "    <tr>\n",
       "      <th>3</th>\n",
       "      <td>74</td>\n",
       "      <td>35</td>\n",
       "      <td>40</td>\n",
       "      <td>26.491096</td>\n",
       "      <td>80.158363</td>\n",
       "      <td>6.980401</td>\n",
       "      <td>242.864034</td>\n",
       "      <td>rice</td>\n",
       "    </tr>\n",
       "    <tr>\n",
       "      <th>4</th>\n",
       "      <td>78</td>\n",
       "      <td>42</td>\n",
       "      <td>42</td>\n",
       "      <td>20.130175</td>\n",
       "      <td>81.604873</td>\n",
       "      <td>7.628473</td>\n",
       "      <td>262.717340</td>\n",
       "      <td>rice</td>\n",
       "    </tr>\n",
       "  </tbody>\n",
       "</table>\n",
       "</div>"
      ],
      "text/plain": [
       "    N   P   K  temperature   humidity        ph    rainfall label\n",
       "0  90  42  43    20.879744  82.002744  6.502985  202.935536  rice\n",
       "1  85  58  41    21.770462  80.319644  7.038096  226.655537  rice\n",
       "2  60  55  44    23.004459  82.320763  7.840207  263.964248  rice\n",
       "3  74  35  40    26.491096  80.158363  6.980401  242.864034  rice\n",
       "4  78  42  42    20.130175  81.604873  7.628473  262.717340  rice"
      ]
     },
     "execution_count": 4,
     "metadata": {},
     "output_type": "execute_result"
    }
   ],
   "source": [
    "df.head()"
   ]
  },
  {
   "cell_type": "code",
   "execution_count": 5,
   "metadata": {
    "execution": {
     "iopub.execute_input": "2023-03-21T03:52:20.335058Z",
     "iopub.status.busy": "2023-03-21T03:52:20.334365Z",
     "iopub.status.idle": "2023-03-21T03:52:20.348821Z",
     "shell.execute_reply": "2023-03-21T03:52:20.348111Z",
     "shell.execute_reply.started": "2023-03-21T03:46:43.175809Z"
    },
    "papermill": {
     "duration": 0.06045,
     "end_time": "2023-03-21T03:52:20.348947",
     "exception": false,
     "start_time": "2023-03-21T03:52:20.288497",
     "status": "completed"
    },
    "tags": []
   },
   "outputs": [
    {
     "data": {
      "text/html": [
       "<div>\n",
       "<style scoped>\n",
       "    .dataframe tbody tr th:only-of-type {\n",
       "        vertical-align: middle;\n",
       "    }\n",
       "\n",
       "    .dataframe tbody tr th {\n",
       "        vertical-align: top;\n",
       "    }\n",
       "\n",
       "    .dataframe thead th {\n",
       "        text-align: right;\n",
       "    }\n",
       "</style>\n",
       "<table border=\"1\" class=\"dataframe\">\n",
       "  <thead>\n",
       "    <tr style=\"text-align: right;\">\n",
       "      <th></th>\n",
       "      <th>N</th>\n",
       "      <th>P</th>\n",
       "      <th>K</th>\n",
       "      <th>temperature</th>\n",
       "      <th>humidity</th>\n",
       "      <th>ph</th>\n",
       "      <th>rainfall</th>\n",
       "      <th>label</th>\n",
       "    </tr>\n",
       "  </thead>\n",
       "  <tbody>\n",
       "    <tr>\n",
       "      <th>2195</th>\n",
       "      <td>107</td>\n",
       "      <td>34</td>\n",
       "      <td>32</td>\n",
       "      <td>26.774637</td>\n",
       "      <td>66.413269</td>\n",
       "      <td>6.780064</td>\n",
       "      <td>177.774507</td>\n",
       "      <td>coffee</td>\n",
       "    </tr>\n",
       "    <tr>\n",
       "      <th>2196</th>\n",
       "      <td>99</td>\n",
       "      <td>15</td>\n",
       "      <td>27</td>\n",
       "      <td>27.417112</td>\n",
       "      <td>56.636362</td>\n",
       "      <td>6.086922</td>\n",
       "      <td>127.924610</td>\n",
       "      <td>coffee</td>\n",
       "    </tr>\n",
       "    <tr>\n",
       "      <th>2197</th>\n",
       "      <td>118</td>\n",
       "      <td>33</td>\n",
       "      <td>30</td>\n",
       "      <td>24.131797</td>\n",
       "      <td>67.225123</td>\n",
       "      <td>6.362608</td>\n",
       "      <td>173.322839</td>\n",
       "      <td>coffee</td>\n",
       "    </tr>\n",
       "    <tr>\n",
       "      <th>2198</th>\n",
       "      <td>117</td>\n",
       "      <td>32</td>\n",
       "      <td>34</td>\n",
       "      <td>26.272418</td>\n",
       "      <td>52.127394</td>\n",
       "      <td>6.758793</td>\n",
       "      <td>127.175293</td>\n",
       "      <td>coffee</td>\n",
       "    </tr>\n",
       "    <tr>\n",
       "      <th>2199</th>\n",
       "      <td>104</td>\n",
       "      <td>18</td>\n",
       "      <td>30</td>\n",
       "      <td>23.603016</td>\n",
       "      <td>60.396475</td>\n",
       "      <td>6.779833</td>\n",
       "      <td>140.937041</td>\n",
       "      <td>coffee</td>\n",
       "    </tr>\n",
       "  </tbody>\n",
       "</table>\n",
       "</div>"
      ],
      "text/plain": [
       "        N   P   K  temperature   humidity        ph    rainfall   label\n",
       "2195  107  34  32    26.774637  66.413269  6.780064  177.774507  coffee\n",
       "2196   99  15  27    27.417112  56.636362  6.086922  127.924610  coffee\n",
       "2197  118  33  30    24.131797  67.225123  6.362608  173.322839  coffee\n",
       "2198  117  32  34    26.272418  52.127394  6.758793  127.175293  coffee\n",
       "2199  104  18  30    23.603016  60.396475  6.779833  140.937041  coffee"
      ]
     },
     "execution_count": 5,
     "metadata": {},
     "output_type": "execute_result"
    }
   ],
   "source": [
    "df.tail()"
   ]
  },
  {
   "cell_type": "code",
   "execution_count": 6,
   "metadata": {
    "execution": {
     "iopub.execute_input": "2023-03-21T03:52:20.429441Z",
     "iopub.status.busy": "2023-03-21T03:52:20.426817Z",
     "iopub.status.idle": "2023-03-21T03:52:20.433330Z",
     "shell.execute_reply": "2023-03-21T03:52:20.434159Z",
     "shell.execute_reply.started": "2023-03-21T03:46:43.192558Z"
    },
    "papermill": {
     "duration": 0.051383,
     "end_time": "2023-03-21T03:52:20.434377",
     "exception": false,
     "start_time": "2023-03-21T03:52:20.382994",
     "status": "completed"
    },
    "tags": []
   },
   "outputs": [
    {
     "data": {
      "text/plain": [
       "17600"
      ]
     },
     "execution_count": 6,
     "metadata": {},
     "output_type": "execute_result"
    }
   ],
   "source": [
    "df.size"
   ]
  },
  {
   "cell_type": "code",
   "execution_count": 7,
   "metadata": {
    "execution": {
     "iopub.execute_input": "2023-03-21T03:52:20.512706Z",
     "iopub.status.busy": "2023-03-21T03:52:20.511962Z",
     "iopub.status.idle": "2023-03-21T03:52:20.516895Z",
     "shell.execute_reply": "2023-03-21T03:52:20.517413Z",
     "shell.execute_reply.started": "2023-03-21T03:46:43.204707Z"
    },
    "papermill": {
     "duration": 0.046655,
     "end_time": "2023-03-21T03:52:20.517562",
     "exception": false,
     "start_time": "2023-03-21T03:52:20.470907",
     "status": "completed"
    },
    "tags": []
   },
   "outputs": [
    {
     "data": {
      "text/plain": [
       "(2200, 8)"
      ]
     },
     "execution_count": 7,
     "metadata": {},
     "output_type": "execute_result"
    }
   ],
   "source": [
    "df.shape"
   ]
  },
  {
   "cell_type": "code",
   "execution_count": 8,
   "metadata": {
    "execution": {
     "iopub.execute_input": "2023-03-21T03:52:20.590138Z",
     "iopub.status.busy": "2023-03-21T03:52:20.589439Z",
     "iopub.status.idle": "2023-03-21T03:52:20.594766Z",
     "shell.execute_reply": "2023-03-21T03:52:20.595323Z",
     "shell.execute_reply.started": "2023-03-21T03:46:43.215472Z"
    },
    "papermill": {
     "duration": 0.043337,
     "end_time": "2023-03-21T03:52:20.595475",
     "exception": false,
     "start_time": "2023-03-21T03:52:20.552138",
     "status": "completed"
    },
    "tags": []
   },
   "outputs": [
    {
     "data": {
      "text/plain": [
       "Index(['N', 'P', 'K', 'temperature', 'humidity', 'ph', 'rainfall', 'label'], dtype='object')"
      ]
     },
     "execution_count": 8,
     "metadata": {},
     "output_type": "execute_result"
    }
   ],
   "source": [
    "df.columns"
   ]
  },
  {
   "cell_type": "code",
   "execution_count": 9,
   "metadata": {
    "execution": {
     "iopub.execute_input": "2023-03-21T03:52:20.670400Z",
     "iopub.status.busy": "2023-03-21T03:52:20.669768Z",
     "iopub.status.idle": "2023-03-21T03:52:20.675555Z",
     "shell.execute_reply": "2023-03-21T03:52:20.676172Z",
     "shell.execute_reply.started": "2023-03-21T03:46:43.228760Z"
    },
    "papermill": {
     "duration": 0.044998,
     "end_time": "2023-03-21T03:52:20.676318",
     "exception": false,
     "start_time": "2023-03-21T03:52:20.631320",
     "status": "completed"
    },
    "tags": []
   },
   "outputs": [
    {
     "data": {
      "text/plain": [
       "array(['rice', 'maize', 'chickpea', 'kidneybeans', 'pigeonpeas',\n",
       "       'mothbeans', 'mungbean', 'blackgram', 'lentil', 'pomegranate',\n",
       "       'banana', 'mango', 'grapes', 'watermelon', 'muskmelon', 'apple',\n",
       "       'orange', 'papaya', 'coconut', 'cotton', 'jute', 'coffee'],\n",
       "      dtype=object)"
      ]
     },
     "execution_count": 9,
     "metadata": {},
     "output_type": "execute_result"
    }
   ],
   "source": [
    "df['label'].unique()"
   ]
  },
  {
   "cell_type": "code",
   "execution_count": 10,
   "metadata": {
    "execution": {
     "iopub.execute_input": "2023-03-21T03:52:20.751750Z",
     "iopub.status.busy": "2023-03-21T03:52:20.750976Z",
     "iopub.status.idle": "2023-03-21T03:52:20.757155Z",
     "shell.execute_reply": "2023-03-21T03:52:20.757728Z",
     "shell.execute_reply.started": "2023-03-21T03:46:43.242950Z"
    },
    "papermill": {
     "duration": 0.046164,
     "end_time": "2023-03-21T03:52:20.757889",
     "exception": false,
     "start_time": "2023-03-21T03:52:20.711725",
     "status": "completed"
    },
    "tags": []
   },
   "outputs": [
    {
     "data": {
      "text/plain": [
       "N                int64\n",
       "P                int64\n",
       "K                int64\n",
       "temperature    float64\n",
       "humidity       float64\n",
       "ph             float64\n",
       "rainfall       float64\n",
       "label           object\n",
       "dtype: object"
      ]
     },
     "execution_count": 10,
     "metadata": {},
     "output_type": "execute_result"
    }
   ],
   "source": [
    "df.dtypes"
   ]
  },
  {
   "cell_type": "code",
   "execution_count": 11,
   "metadata": {
    "execution": {
     "iopub.execute_input": "2023-03-21T03:52:20.832041Z",
     "iopub.status.busy": "2023-03-21T03:52:20.831387Z",
     "iopub.status.idle": "2023-03-21T03:52:20.839515Z",
     "shell.execute_reply": "2023-03-21T03:52:20.840065Z",
     "shell.execute_reply.started": "2023-03-21T03:46:43.255067Z"
    },
    "papermill": {
     "duration": 0.046771,
     "end_time": "2023-03-21T03:52:20.840219",
     "exception": false,
     "start_time": "2023-03-21T03:52:20.793448",
     "status": "completed"
    },
    "tags": []
   },
   "outputs": [
    {
     "data": {
      "text/plain": [
       "label\n",
       "rice           100\n",
       "maize          100\n",
       "chickpea       100\n",
       "kidneybeans    100\n",
       "pigeonpeas     100\n",
       "mothbeans      100\n",
       "mungbean       100\n",
       "blackgram      100\n",
       "lentil         100\n",
       "pomegranate    100\n",
       "banana         100\n",
       "mango          100\n",
       "grapes         100\n",
       "watermelon     100\n",
       "muskmelon      100\n",
       "apple          100\n",
       "orange         100\n",
       "papaya         100\n",
       "coconut        100\n",
       "cotton         100\n",
       "jute           100\n",
       "coffee         100\n",
       "Name: count, dtype: int64"
      ]
     },
     "execution_count": 11,
     "metadata": {},
     "output_type": "execute_result"
    }
   ],
   "source": [
    "df['label'].value_counts()"
   ]
  },
  {
   "cell_type": "code",
   "execution_count": 12,
   "metadata": {
    "execution": {
     "iopub.execute_input": "2023-03-21T03:52:21.557452Z",
     "iopub.status.busy": "2023-03-21T03:52:21.556451Z",
     "iopub.status.idle": "2023-03-21T03:52:21.565452Z",
     "shell.execute_reply": "2023-03-21T03:52:21.564785Z",
     "shell.execute_reply.started": "2023-03-21T03:46:43.727023Z"
    },
    "papermill": {
     "duration": 0.049228,
     "end_time": "2023-03-21T03:52:21.565604",
     "exception": false,
     "start_time": "2023-03-21T03:52:21.516376",
     "status": "completed"
    },
    "tags": []
   },
   "outputs": [],
   "source": [
    "features = df[['N', 'P','K','temperature', 'humidity', 'ph', 'rainfall']]\n",
    "target = df['label']\n",
    "labels = df['label']"
   ]
  },
  {
   "cell_type": "code",
   "execution_count": 13,
   "metadata": {
    "execution": {
     "iopub.execute_input": "2023-03-21T03:52:21.645482Z",
     "iopub.status.busy": "2023-03-21T03:52:21.644754Z",
     "iopub.status.idle": "2023-03-21T03:52:21.648735Z",
     "shell.execute_reply": "2023-03-21T03:52:21.649307Z",
     "shell.execute_reply.started": "2023-03-21T03:46:43.736790Z"
    },
    "papermill": {
     "duration": 0.045983,
     "end_time": "2023-03-21T03:52:21.649468",
     "exception": false,
     "start_time": "2023-03-21T03:52:21.603485",
     "status": "completed"
    },
    "tags": []
   },
   "outputs": [],
   "source": [
    "acc = []\n",
    "model = []"
   ]
  },
  {
   "cell_type": "code",
   "execution_count": 14,
   "metadata": {
    "execution": {
     "iopub.execute_input": "2023-03-21T03:52:21.729976Z",
     "iopub.status.busy": "2023-03-21T03:52:21.729245Z",
     "iopub.status.idle": "2023-03-21T03:52:21.736228Z",
     "shell.execute_reply": "2023-03-21T03:52:21.736746Z",
     "shell.execute_reply.started": "2023-03-21T03:46:43.747408Z"
    },
    "papermill": {
     "duration": 0.049887,
     "end_time": "2023-03-21T03:52:21.736935",
     "exception": false,
     "start_time": "2023-03-21T03:52:21.687048",
     "status": "completed"
    },
    "tags": []
   },
   "outputs": [],
   "source": [
    "from sklearn.model_selection import train_test_split\n",
    "Xtrain, Xtest, Ytrain, Ytest = train_test_split(features,target,test_size = 0.2,random_state =2)"
   ]
  },
  {
   "cell_type": "code",
   "execution_count": 15,
   "metadata": {
    "execution": {
     "iopub.execute_input": "2023-03-21T03:52:21.894554Z",
     "iopub.status.busy": "2023-03-21T03:52:21.893851Z",
     "iopub.status.idle": "2023-03-21T03:52:21.948072Z",
     "shell.execute_reply": "2023-03-21T03:52:21.947368Z",
     "shell.execute_reply.started": "2023-03-21T03:46:43.764441Z"
    },
    "papermill": {
     "duration": 0.096398,
     "end_time": "2023-03-21T03:52:21.948205",
     "exception": false,
     "start_time": "2023-03-21T03:52:21.851807",
     "status": "completed"
    },
    "tags": []
   },
   "outputs": [
    {
     "name": "stdout",
     "output_type": "stream",
     "text": [
      "DecisionTrees's Accuracy is:  35.68181818181818\n",
      "              precision    recall  f1-score   support\n",
      "\n",
      "       apple       1.00      1.00      1.00        13\n",
      "      banana       0.22      1.00      0.37        17\n",
      "   blackgram       0.11      1.00      0.20        16\n",
      "    chickpea       1.00      1.00      1.00        21\n",
      "     coconut       0.00      0.00      0.00        21\n",
      "      coffee       0.00      0.00      0.00        22\n",
      "      cotton       0.20      1.00      0.33        20\n",
      "      grapes       1.00      1.00      1.00        18\n",
      "        jute       0.00      0.00      0.00        28\n",
      " kidneybeans       1.00      1.00      1.00        14\n",
      "      lentil       0.00      0.00      0.00        23\n",
      "       maize       0.00      0.00      0.00        21\n",
      "       mango       0.00      0.00      0.00        26\n",
      "   mothbeans       0.00      0.00      0.00        19\n",
      "    mungbean       0.00      0.00      0.00        24\n",
      "   muskmelon       1.00      1.00      1.00        23\n",
      "      orange       0.00      0.00      0.00        29\n",
      "      papaya       0.00      0.00      0.00        19\n",
      "  pigeonpeas       0.00      0.00      0.00        18\n",
      " pomegranate       0.00      0.00      0.00        17\n",
      "        rice       0.00      0.00      0.00        16\n",
      "  watermelon       0.52      1.00      0.68        15\n",
      "\n",
      "    accuracy                           0.36       440\n",
      "   macro avg       0.27      0.41      0.30       440\n",
      "weighted avg       0.24      0.36      0.26       440\n",
      "\n"
     ]
    }
   ],
   "source": [
    "from sklearn.tree import DecisionTreeClassifier\n",
    "\n",
    "DecisionTree = DecisionTreeClassifier(random_state=2,max_depth=5)\n",
    "\n",
    "DecisionTree.fit(Xtrain,Ytrain)\n",
    "\n",
    "predicted_values = DecisionTree.predict(Xtest)\n",
    "x = metrics.accuracy_score(Ytest, predicted_values)\n",
    "acc.append(x)\n",
    "model.append('Decision Tree')\n",
    "print(\"DecisionTrees's Accuracy is: \", x*100)\n",
    "\n",
    "print(classification_report(Ytest,predicted_values))"
   ]
  },
  {
   "cell_type": "code",
   "execution_count": 16,
   "metadata": {
    "execution": {
     "iopub.execute_input": "2023-03-21T03:52:22.546286Z",
     "iopub.status.busy": "2023-03-21T03:52:22.545582Z",
     "iopub.status.idle": "2023-03-21T03:52:22.550995Z",
     "shell.execute_reply": "2023-03-21T03:52:22.551523Z",
     "shell.execute_reply.started": "2023-03-21T03:46:44.009175Z"
    },
    "papermill": {
     "duration": 0.048933,
     "end_time": "2023-03-21T03:52:22.551703",
     "exception": false,
     "start_time": "2023-03-21T03:52:22.502770",
     "status": "completed"
    },
    "tags": []
   },
   "outputs": [],
   "source": [
    "import pickle\n",
    "\n",
    "DT_pkl_filename = 'model.pkl'\n",
    "DT_Model_pkl = open(DT_pkl_filename, 'wb')\n",
    "pickle.dump(DecisionTree, DT_Model_pkl)\n",
    "DT_Model_pkl.close()"
   ]
  }
 ],
 "metadata": {
  "kernelspec": {
   "display_name": "Python 3",
   "language": "python",
   "name": "python3"
  },
  "language_info": {
   "codemirror_mode": {
    "name": "ipython",
    "version": 3
   },
   "file_extension": ".py",
   "mimetype": "text/x-python",
   "name": "python",
   "nbconvert_exporter": "python",
   "pygments_lexer": "ipython3",
   "version": "3.13.3"
  },
  "papermill": {
   "duration": 21.45374,
   "end_time": "2023-03-21T03:52:34.783513",
   "environment_variables": {},
   "exception": null,
   "input_path": "__notebook__.ipynb",
   "output_path": "__notebook__.ipynb",
   "parameters": {},
   "start_time": "2023-03-21T03:52:13.329773",
   "version": "2.1.0"
  }
 },
 "nbformat": 4,
 "nbformat_minor": 4
}
